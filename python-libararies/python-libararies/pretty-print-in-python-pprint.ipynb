{
 "cells": [
  {
   "cell_type": "code",
   "execution_count": 35,
   "outputs": [
    {
     "name": "stdout",
     "output_type": "stream",
     "text": [
      "{'id': 1, 'name': 'Leanne Graham', 'username': 'Bret', 'email': 'Sincere@april.biz', 'address': {'street': 'Kulas Light', 'suite': 'Apt. 556', 'city': 'Gwenborough', 'zipcode': '92998-3874', 'geo': {'lat': '-37.3159', 'lng': '81.1496'}}, 'phone': '1-770-736-8031 x56442', 'website': 'hildegard.org', 'company': {'name': 'Romaguera-Crona', 'catchPhrase': 'Multi-layered client-server neural-net', 'bs': 'harness real-time e-markets'}}\n"
     ]
    }
   ],
   "source": [
    "# Python standard print\n",
    "from urllib import request\n",
    "import json\n",
    "\n",
    "response = request.urlopen(\"https://jsonplaceholder.typicode.com/users\")\n",
    "json_response = response.read()\n",
    "users = json.loads(json_response)\n",
    "print(users[0])"
   ],
   "metadata": {
    "collapsed": false
   }
  },
  {
   "cell_type": "code",
   "execution_count": 46,
   "outputs": [
    {
     "name": "stdout",
     "output_type": "stream",
     "text": [
      "{'address': {'city': 'Gwenborough',\n",
      "             'geo': {'lat': '-37.3159', 'lng': '81.1496'},\n",
      "             'street': 'Kulas Light',\n",
      "             'suite': 'Apt. 556',\n",
      "             'zipcode': '92998-3874'},\n",
      " 'company': {'bs': 'harness real-time e-markets',\n",
      "             'catchPhrase': 'Multi-layered client-server neural-net',\n",
      "             'name': 'Romaguera-Crona'},\n",
      " 'email': 'Sincere@april.biz',\n",
      " 'id': 1,\n",
      " 'name': 'Leanne Graham',\n",
      " 'phone': '1-770-736-8031 x56442',\n",
      " 'username': 'Bret',\n",
      " 'website': 'hildegard.org'}\n"
     ]
    }
   ],
   "source": [
    "# Python pretty print\n",
    "from pprint import pprint\n",
    "pprint(users[0])"
   ],
   "metadata": {
    "collapsed": false
   }
  },
  {
   "cell_type": "code",
   "execution_count": 48,
   "outputs": [
    {
     "name": "stdout",
     "output_type": "stream",
     "text": [
      "{'id': 1,\n",
      " 'name': 'Leanne Graham',\n",
      " 'username': 'Bret',\n",
      " 'email': 'Sincere@april.biz',\n",
      " 'address': {'street': 'Kulas Light',\n",
      "             'suite': 'Apt. 556',\n",
      "             'city': 'Gwenborough',\n",
      "             'zipcode': '92998-3874',\n",
      "             'geo': {'lat': '-37.3159', 'lng': '81.1496'}},\n",
      " 'phone': '1-770-736-8031 x56442',\n",
      " 'website': 'hildegard.org',\n",
      " 'company': {'name': 'Romaguera-Crona',\n",
      "             'catchPhrase': 'Multi-layered client-server neural-net',\n",
      "             'bs': 'harness real-time e-markets'}}\n"
     ]
    }
   ],
   "source": [
    "# pp is alias for pprint\n",
    "from pprint import pp\n",
    "pp(users[0])"
   ],
   "metadata": {
    "collapsed": false
   }
  },
  {
   "cell_type": "code",
   "execution_count": 38,
   "outputs": [
    {
     "name": "stdout",
     "output_type": "stream",
     "text": [
      "[{...}, {...}, {...}, {...}, {...}, {...}, {...}, {...}, {...}, {...}]\n",
      "[{'id': 1,\n",
      "  'name': 'Leanne Graham',\n",
      "  'username': 'Bret',\n",
      "  'email': 'Sincere@april.biz',\n",
      "  'address': {...},\n",
      "  'phone': '1-770-736-8031 x56442',\n",
      "  'website': 'hildegard.org',\n",
      "  'company': {...}},\n",
      " {'id': 2,\n",
      "  'name': 'Ervin Howell',\n",
      "  'username': 'Antonette',\n",
      "  'email': 'Shanna@melissa.tv',\n",
      "  'address': {...},\n",
      "  'phone': '010-692-6593 x09125',\n",
      "  'website': 'anastasia.net',\n",
      "  'company': {...}},\n",
      " {'id': 3,\n",
      "  'name': 'Clementine Bauch',\n",
      "  'username': 'Samantha',\n",
      "  'email': 'Nathan@yesenia.net',\n",
      "  'address': {...},\n",
      "  'phone': '1-463-123-4447',\n",
      "  'website': 'ramiro.info',\n",
      "  'company': {...}},\n",
      " {'id': 4,\n",
      "  'name': 'Patricia Lebsack',\n",
      "  'username': 'Karianne',\n",
      "  'email': 'Julianne.OConner@kory.org',\n",
      "  'address': {...},\n",
      "  'phone': '493-170-9623 x156',\n",
      "  'website': 'kale.biz',\n",
      "  'company': {...}},\n",
      " {'id': 5,\n",
      "  'name': 'Chelsey Dietrich',\n",
      "  'username': 'Kamren',\n",
      "  'email': 'Lucio_Hettinger@annie.ca',\n",
      "  'address': {...},\n",
      "  'phone': '(254)954-1289',\n",
      "  'website': 'demarco.info',\n",
      "  'company': {...}},\n",
      " {'id': 6,\n",
      "  'name': 'Mrs. Dennis Schulist',\n",
      "  'username': 'Leopoldo_Corkery',\n",
      "  'email': 'Karley_Dach@jasper.info',\n",
      "  'address': {...},\n",
      "  'phone': '1-477-935-8478 x6430',\n",
      "  'website': 'ola.org',\n",
      "  'company': {...}},\n",
      " {'id': 7,\n",
      "  'name': 'Kurtis Weissnat',\n",
      "  'username': 'Elwyn.Skiles',\n",
      "  'email': 'Telly.Hoeger@billy.biz',\n",
      "  'address': {...},\n",
      "  'phone': '210.067.6132',\n",
      "  'website': 'elvis.io',\n",
      "  'company': {...}},\n",
      " {'id': 8,\n",
      "  'name': 'Nicholas Runolfsdottir V',\n",
      "  'username': 'Maxime_Nienow',\n",
      "  'email': 'Sherwood@rosamond.me',\n",
      "  'address': {...},\n",
      "  'phone': '586.493.6943 x140',\n",
      "  'website': 'jacynthe.com',\n",
      "  'company': {...}},\n",
      " {'id': 9,\n",
      "  'name': 'Glenna Reichert',\n",
      "  'username': 'Delphine',\n",
      "  'email': 'Chaim_McDermott@dana.io',\n",
      "  'address': {...},\n",
      "  'phone': '(775)976-6794 x41206',\n",
      "  'website': 'conrad.com',\n",
      "  'company': {...}},\n",
      " {'id': 10,\n",
      "  'name': 'Clementina DuBuque',\n",
      "  'username': 'Moriah.Stanton',\n",
      "  'email': 'Rey.Padberg@karina.biz',\n",
      "  'address': {...},\n",
      "  'phone': '024-648-3804',\n",
      "  'website': 'ambrose.net',\n",
      "  'company': {...}}]\n"
     ]
    }
   ],
   "source": [
    "# Summarizing Your Data: depth\n",
    "pp(users, depth=1)\n",
    "pp(users, depth=2)"
   ],
   "metadata": {
    "collapsed": false
   }
  },
  {
   "cell_type": "code",
   "execution_count": 49,
   "outputs": [
    {
     "name": "stdout",
     "output_type": "stream",
     "text": [
      "{'id': 1,\n",
      " 'name': 'Leanne Graham',\n",
      " 'username': 'Bret',\n",
      " 'email': 'Sincere@april.biz',\n",
      " 'address': {'street': 'Kulas Light',\n",
      "             'suite': 'Apt. 556',\n",
      "             'city': 'Gwenborough',\n",
      "             'zipcode': '92998-3874',\n",
      "             'geo': {...}},\n",
      " 'phone': '1-770-736-8031 x56442',\n",
      " 'website': 'hildegard.org',\n",
      " 'company': {'name': 'Romaguera-Crona',\n",
      "             'catchPhrase': 'Multi-layered client-server neural-net',\n",
      "             'bs': 'harness real-time e-markets'}}\n",
      "{   'id': 1,\n",
      "    'name': 'Leanne Graham',\n",
      "    'username': 'Bret',\n",
      "    'email': 'Sincere@april.biz',\n",
      "    'address': {   'street': 'Kulas Light',\n",
      "                   'suite': 'Apt. 556',\n",
      "                   'city': 'Gwenborough',\n",
      "                   'zipcode': '92998-3874',\n",
      "                   'geo': {...}},\n",
      "    'phone': '1-770-736-8031 x56442',\n",
      "    'website': 'hildegard.org',\n",
      "    'company': {   'name': 'Romaguera-Crona',\n",
      "                   'catchPhrase': 'Multi-layered client-server neural-net',\n",
      "                   'bs': 'harness real-time e-markets'}}\n"
     ]
    }
   ],
   "source": [
    "# Giving Your Data Space: indent\n",
    "pp(users[0], depth=2)\n",
    "pp(users[0], depth=2, indent=4)"
   ],
   "metadata": {
    "collapsed": false
   }
  },
  {
   "cell_type": "code",
   "execution_count": 50,
   "outputs": [
    {
     "name": "stdout",
     "output_type": "stream",
     "text": [
      "{'id': 1,\n",
      " 'name': 'Leanne Graham',\n",
      " 'username': 'Bret',\n",
      " 'email': 'Sincere@april.biz',\n",
      " 'address': {'street': 'Kulas Light',\n",
      "             'suite': 'Apt. 556',\n",
      "             'city': 'Gwenborough',\n",
      "             'zipcode': '92998-3874',\n",
      "             'geo': {'lat': '-37.3159', 'lng': '81.1496'}},\n",
      " 'phone': '1-770-736-8031 x56442',\n",
      " 'website': 'hildegard.org',\n",
      " 'company': {'name': 'Romaguera-Crona',\n",
      "             'catchPhrase': 'Multi-layered client-server neural-net',\n",
      "             'bs': 'harness real-time e-markets'}}\n",
      "{'id': 1,\n",
      " 'name': 'Leanne Graham',\n",
      " 'username': 'Bret',\n",
      " 'email': 'Sincere@april.biz',\n",
      " 'address': {'street': 'Kulas Light', 'suite': 'Apt. 556', 'city': 'Gwenborough', 'zipcode': '92998-3874', 'geo': {'lat': '-37.3159', 'lng': '81.1496'}},\n",
      " 'phone': '1-770-736-8031 x56442',\n",
      " 'website': 'hildegard.org',\n",
      " 'company': {'name': 'Romaguera-Crona', 'catchPhrase': 'Multi-layered client-server neural-net', 'bs': 'harness real-time e-markets'}}\n"
     ]
    }
   ],
   "source": [
    "# Limiting Your Line Lengths: width\n",
    "pp(users[0])\n",
    "pp(users[0], width=160)"
   ],
   "metadata": {
    "collapsed": false
   }
  },
  {
   "cell_type": "code",
   "execution_count": 41,
   "outputs": [
    {
     "name": "stdout",
     "output_type": "stream",
     "text": [
      "[{...}, {...}, {...}, {...}, {...}, {...}, {...}, {...}, {...}, {...}]\n",
      "[{...},\n",
      " {...},\n",
      " {...},\n",
      " {...},\n",
      " {...},\n",
      " {...},\n",
      " {...},\n",
      " {...},\n",
      " {...},\n",
      " {...}]\n",
      "[{...}, {...}, {...}, {...}, {...},\n",
      " {...}, {...}, {...}, {...}, {...}]\n"
     ]
    }
   ],
   "source": [
    "# Squeezing Your Long Sequences: compact\n",
    "pp(users, depth=1)\n",
    "pp(users, depth=1, width=40)\n",
    "pp(users, depth=1, width=40, compact=True)"
   ],
   "metadata": {
    "collapsed": false
   }
  },
  {
   "cell_type": "code",
   "execution_count": 51,
   "outputs": [
    {
     "name": "stdout",
     "output_type": "stream",
     "text": [
      "{'id': 1,\n",
      " 'name': 'Leanne Graham',\n",
      " 'username': 'Bret',\n",
      " 'email': 'Sincere@april.biz',\n",
      " 'address': {...},\n",
      " 'phone': '1-770-736-8031 x56442',\n",
      " 'website': 'hildegard.org',\n",
      " 'company': {...}}\n"
     ]
    }
   ],
   "source": [
    "# Preventing Dictionary Sorting: sort_dicts\n",
    "pp(users[0], depth=1, sort_dicts=False)"
   ],
   "metadata": {
    "collapsed": false
   }
  },
  {
   "cell_type": "code",
   "execution_count": 52,
   "outputs": [],
   "source": [
    "# Directing Your Output: stream\n",
    "with open(\"../data/pp_output.txt\", mode=\"w\") as file_object:\n",
    "    pp(users, stream=file_object, sort_dicts=False, indent=4)"
   ],
   "metadata": {
    "collapsed": false
   }
  },
  {
   "cell_type": "code",
   "execution_count": 53,
   "outputs": [
    {
     "name": "stdout",
     "output_type": "stream",
     "text": [
      "{   'id': 1,\n",
      "    'name': 'Leanne Graham',\n",
      "    'username': 'Bret',\n",
      "    'email': 'Sincere@april.biz',\n",
      "    'address': {   'street': 'Kulas Light',\n",
      "                   'suite': 'Apt. 556',\n",
      "                   'city': 'Gwenborough',\n",
      "                   'zipcode': '92998-3874',\n",
      "                   'geo': {...}},\n",
      "    'phone': '1-770-736-8031 x56442',\n",
      "    'website': 'hildegard.org',\n",
      "    'company': {   'name': 'Romaguera-Crona',\n",
      "                   'catchPhrase': 'Multi-layered client-server neural-net',\n",
      "                   'bs': 'harness real-time e-markets'}}\n"
     ]
    }
   ],
   "source": [
    "# Creating a Custom PrettyPrinter Object\n",
    "from pprint import PrettyPrinter\n",
    "cpp = PrettyPrinter(\n",
    "    indent=4,\n",
    "    width=100,\n",
    "    depth=2,\n",
    "    compact=False,\n",
    "    sort_dicts=False,\n",
    "    underscore_numbers=False\n",
    ")\n",
    "cpp.pprint(users[0])"
   ],
   "metadata": {
    "collapsed": false
   }
  },
  {
   "cell_type": "code",
   "execution_count": 54,
   "outputs": [
    {
     "name": "stdout",
     "output_type": "stream",
     "text": [
      "city: Gwenborough,\n",
      " geo: lat: -37.3159, lng: 81.1496,\n",
      " street: Kulas Light,\n",
      " suite: Apt. 556,\n",
      " zipcode: 92998-3874\n"
     ]
    }
   ],
   "source": [
    "# Getting a Pretty String With pformat()\n",
    "from pprint import pformat\n",
    "address = pformat(users[0][\"address\"])\n",
    "chars_to_remove = [\"{\", \"}\", \"'\"]\n",
    "for char in chars_to_remove:\n",
    "    address = address.replace(char, \"\")\n",
    "print(address)"
   ],
   "metadata": {
    "collapsed": false
   }
  },
  {
   "cell_type": "code",
   "execution_count": null,
   "outputs": [],
   "source": [],
   "metadata": {
    "collapsed": false
   }
  }
 ],
 "metadata": {
  "kernelspec": {
   "display_name": "Python 3",
   "language": "python",
   "name": "python3"
  },
  "language_info": {
   "codemirror_mode": {
    "name": "ipython",
    "version": 2
   },
   "file_extension": ".py",
   "mimetype": "text/x-python",
   "name": "python",
   "nbconvert_exporter": "python",
   "pygments_lexer": "ipython2",
   "version": "2.7.6"
  }
 },
 "nbformat": 4,
 "nbformat_minor": 0
}
