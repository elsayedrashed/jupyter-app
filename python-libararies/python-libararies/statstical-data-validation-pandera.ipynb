{
 "cells": [
  {
   "cell_type": "code",
   "execution_count": 91,
   "outputs": [
    {
     "ename": "SchemaError",
     "evalue": "non-nullable series 'description' contains null values:\n2    None\n4    None\nName: description, dtype: object",
     "output_type": "error",
     "traceback": [
      "\u001B[0;31m---------------------------------------------------------------------------\u001B[0m",
      "\u001B[0;31mSchemaError\u001B[0m                               Traceback (most recent call last)",
      "\u001B[0;32m<ipython-input-91-8e8600a2f6ab>\u001B[0m in \u001B[0;36m<module>\u001B[0;34m\u001B[0m\n\u001B[1;32m     22\u001B[0m })\n\u001B[1;32m     23\u001B[0m \u001B[0;34m\u001B[0m\u001B[0m\n\u001B[0;32m---> 24\u001B[0;31m \u001B[0mvalidated_df\u001B[0m \u001B[0;34m=\u001B[0m \u001B[0mschema\u001B[0m\u001B[0;34m(\u001B[0m\u001B[0mdf\u001B[0m\u001B[0;34m)\u001B[0m\u001B[0;34m\u001B[0m\u001B[0;34m\u001B[0m\u001B[0m\n\u001B[0m\u001B[1;32m     25\u001B[0m \u001B[0mprint\u001B[0m\u001B[0;34m(\u001B[0m\u001B[0mvalidated_df\u001B[0m\u001B[0;34m)\u001B[0m\u001B[0;34m\u001B[0m\u001B[0;34m\u001B[0m\u001B[0m\n",
      "\u001B[0;32m~/.pyenv/versions/env3.10.8/lib/python3.10/site-packages/pandera/schemas.py\u001B[0m in \u001B[0;36m__call__\u001B[0;34m(self, dataframe, head, tail, sample, random_state, lazy, inplace)\u001B[0m\n\u001B[1;32m    687\u001B[0m             \u001B[0motherwise\u001B[0m \u001B[0mcreates\u001B[0m \u001B[0ma\u001B[0m \u001B[0mcopy\u001B[0m \u001B[0mof\u001B[0m \u001B[0mthe\u001B[0m \u001B[0mdata\u001B[0m\u001B[0;34m.\u001B[0m\u001B[0;34m\u001B[0m\u001B[0;34m\u001B[0m\u001B[0m\n\u001B[1;32m    688\u001B[0m         \"\"\"\n\u001B[0;32m--> 689\u001B[0;31m         return self.validate(\n\u001B[0m\u001B[1;32m    690\u001B[0m             \u001B[0mdataframe\u001B[0m\u001B[0;34m,\u001B[0m \u001B[0mhead\u001B[0m\u001B[0;34m,\u001B[0m \u001B[0mtail\u001B[0m\u001B[0;34m,\u001B[0m \u001B[0msample\u001B[0m\u001B[0;34m,\u001B[0m \u001B[0mrandom_state\u001B[0m\u001B[0;34m,\u001B[0m \u001B[0mlazy\u001B[0m\u001B[0;34m,\u001B[0m \u001B[0minplace\u001B[0m\u001B[0;34m\u001B[0m\u001B[0;34m\u001B[0m\u001B[0m\n\u001B[1;32m    691\u001B[0m         )\n",
      "\u001B[0;32m~/.pyenv/versions/env3.10.8/lib/python3.10/site-packages/pandera/schemas.py\u001B[0m in \u001B[0;36mvalidate\u001B[0;34m(self, check_obj, head, tail, sample, random_state, lazy, inplace)\u001B[0m\n\u001B[1;32m    610\u001B[0m                 \u001B[0mcheck_results\u001B[0m\u001B[0;34m.\u001B[0m\u001B[0mappend\u001B[0m\u001B[0;34m(\u001B[0m\u001B[0misinstance\u001B[0m\u001B[0;34m(\u001B[0m\u001B[0mresult\u001B[0m\u001B[0;34m,\u001B[0m \u001B[0mpd\u001B[0m\u001B[0;34m.\u001B[0m\u001B[0mDataFrame\u001B[0m\u001B[0;34m)\u001B[0m\u001B[0;34m)\u001B[0m\u001B[0;34m\u001B[0m\u001B[0;34m\u001B[0m\u001B[0m\n\u001B[1;32m    611\u001B[0m             \u001B[0;32mexcept\u001B[0m \u001B[0merrors\u001B[0m\u001B[0;34m.\u001B[0m\u001B[0mSchemaError\u001B[0m \u001B[0;32mas\u001B[0m \u001B[0merr\u001B[0m\u001B[0;34m:\u001B[0m\u001B[0;34m\u001B[0m\u001B[0;34m\u001B[0m\u001B[0m\n\u001B[0;32m--> 612\u001B[0;31m                 \u001B[0merror_handler\u001B[0m\u001B[0;34m.\u001B[0m\u001B[0mcollect_error\u001B[0m\u001B[0;34m(\u001B[0m\u001B[0;34m\"schema_component_check\"\u001B[0m\u001B[0;34m,\u001B[0m \u001B[0merr\u001B[0m\u001B[0;34m)\u001B[0m\u001B[0;34m\u001B[0m\u001B[0;34m\u001B[0m\u001B[0m\n\u001B[0m\u001B[1;32m    613\u001B[0m             \u001B[0;32mexcept\u001B[0m \u001B[0merrors\u001B[0m\u001B[0;34m.\u001B[0m\u001B[0mSchemaErrors\u001B[0m \u001B[0;32mas\u001B[0m \u001B[0merr\u001B[0m\u001B[0;34m:\u001B[0m\u001B[0;34m\u001B[0m\u001B[0;34m\u001B[0m\u001B[0m\n\u001B[1;32m    614\u001B[0m                 \u001B[0;32mfor\u001B[0m \u001B[0mschema_error_dict\u001B[0m \u001B[0;32min\u001B[0m \u001B[0merr\u001B[0m\u001B[0;34m.\u001B[0m\u001B[0mschema_errors\u001B[0m\u001B[0;34m:\u001B[0m\u001B[0;34m\u001B[0m\u001B[0;34m\u001B[0m\u001B[0m\n",
      "\u001B[0;32m~/.pyenv/versions/env3.10.8/lib/python3.10/site-packages/pandera/error_handlers.py\u001B[0m in \u001B[0;36mcollect_error\u001B[0;34m(self, reason_code, schema_error, original_exc)\u001B[0m\n\u001B[1;32m     30\u001B[0m         \"\"\"\n\u001B[1;32m     31\u001B[0m         \u001B[0;32mif\u001B[0m \u001B[0;32mnot\u001B[0m \u001B[0mself\u001B[0m\u001B[0;34m.\u001B[0m\u001B[0m_lazy\u001B[0m\u001B[0;34m:\u001B[0m\u001B[0;34m\u001B[0m\u001B[0;34m\u001B[0m\u001B[0m\n\u001B[0;32m---> 32\u001B[0;31m             \u001B[0;32mraise\u001B[0m \u001B[0mschema_error\u001B[0m \u001B[0;32mfrom\u001B[0m \u001B[0moriginal_exc\u001B[0m\u001B[0;34m\u001B[0m\u001B[0;34m\u001B[0m\u001B[0m\n\u001B[0m\u001B[1;32m     33\u001B[0m \u001B[0;34m\u001B[0m\u001B[0m\n\u001B[1;32m     34\u001B[0m         \u001B[0;31m# delete data of validated object from SchemaError object to prevent\u001B[0m\u001B[0;34m\u001B[0m\u001B[0;34m\u001B[0m\u001B[0m\n",
      "\u001B[0;32m~/.pyenv/versions/env3.10.8/lib/python3.10/site-packages/pandera/schemas.py\u001B[0m in \u001B[0;36mvalidate\u001B[0;34m(self, check_obj, head, tail, sample, random_state, lazy, inplace)\u001B[0m\n\u001B[1;32m    602\u001B[0m         \u001B[0;32mfor\u001B[0m \u001B[0mschema_component\u001B[0m \u001B[0;32min\u001B[0m \u001B[0mschema_components\u001B[0m\u001B[0;34m:\u001B[0m\u001B[0;34m\u001B[0m\u001B[0;34m\u001B[0m\u001B[0m\n\u001B[1;32m    603\u001B[0m             \u001B[0;32mtry\u001B[0m\u001B[0;34m:\u001B[0m\u001B[0;34m\u001B[0m\u001B[0;34m\u001B[0m\u001B[0m\n\u001B[0;32m--> 604\u001B[0;31m                 result = schema_component(\n\u001B[0m\u001B[1;32m    605\u001B[0m                     \u001B[0mdf_to_validate\u001B[0m\u001B[0;34m,\u001B[0m\u001B[0;34m\u001B[0m\u001B[0;34m\u001B[0m\u001B[0m\n\u001B[1;32m    606\u001B[0m                     \u001B[0mlazy\u001B[0m\u001B[0;34m=\u001B[0m\u001B[0mlazy\u001B[0m\u001B[0;34m,\u001B[0m\u001B[0;34m\u001B[0m\u001B[0;34m\u001B[0m\u001B[0m\n",
      "\u001B[0;32m~/.pyenv/versions/env3.10.8/lib/python3.10/site-packages/pandera/schemas.py\u001B[0m in \u001B[0;36m__call__\u001B[0;34m(self, check_obj, head, tail, sample, random_state, lazy, inplace)\u001B[0m\n\u001B[1;32m   1902\u001B[0m     ) -> Union[pd.DataFrame, pd.Series]:\n\u001B[1;32m   1903\u001B[0m         \u001B[0;34m\"\"\"Alias for ``validate`` method.\"\"\"\u001B[0m\u001B[0;34m\u001B[0m\u001B[0;34m\u001B[0m\u001B[0m\n\u001B[0;32m-> 1904\u001B[0;31m         return self.validate(\n\u001B[0m\u001B[1;32m   1905\u001B[0m             \u001B[0mcheck_obj\u001B[0m\u001B[0;34m,\u001B[0m \u001B[0mhead\u001B[0m\u001B[0;34m,\u001B[0m \u001B[0mtail\u001B[0m\u001B[0;34m,\u001B[0m \u001B[0msample\u001B[0m\u001B[0;34m,\u001B[0m \u001B[0mrandom_state\u001B[0m\u001B[0;34m,\u001B[0m \u001B[0mlazy\u001B[0m\u001B[0;34m,\u001B[0m \u001B[0minplace\u001B[0m\u001B[0;34m\u001B[0m\u001B[0;34m\u001B[0m\u001B[0m\n\u001B[1;32m   1906\u001B[0m         )\n",
      "\u001B[0;32m~/.pyenv/versions/env3.10.8/lib/python3.10/site-packages/pandera/schema_components.py\u001B[0m in \u001B[0;36mvalidate\u001B[0;34m(self, check_obj, head, tail, sample, random_state, lazy, inplace)\u001B[0m\n\u001B[1;32m    221\u001B[0m                     )\n\u001B[1;32m    222\u001B[0m             \u001B[0;32melse\u001B[0m\u001B[0;34m:\u001B[0m\u001B[0;34m\u001B[0m\u001B[0;34m\u001B[0m\u001B[0m\n\u001B[0;32m--> 223\u001B[0;31m                 \u001B[0mvalidate_column\u001B[0m\u001B[0;34m(\u001B[0m\u001B[0mcheck_obj\u001B[0m\u001B[0;34m,\u001B[0m \u001B[0mcolumn_name\u001B[0m\u001B[0;34m)\u001B[0m\u001B[0;34m\u001B[0m\u001B[0;34m\u001B[0m\u001B[0m\n\u001B[0m\u001B[1;32m    224\u001B[0m \u001B[0;34m\u001B[0m\u001B[0m\n\u001B[1;32m    225\u001B[0m         \u001B[0;32mreturn\u001B[0m \u001B[0mcheck_obj\u001B[0m\u001B[0;34m\u001B[0m\u001B[0;34m\u001B[0m\u001B[0m\n",
      "\u001B[0;32m~/.pyenv/versions/env3.10.8/lib/python3.10/site-packages/pandera/schema_components.py\u001B[0m in \u001B[0;36mvalidate_column\u001B[0;34m(check_obj, column_name)\u001B[0m\n\u001B[1;32m    194\u001B[0m \u001B[0;34m\u001B[0m\u001B[0m\n\u001B[1;32m    195\u001B[0m         \u001B[0;32mdef\u001B[0m \u001B[0mvalidate_column\u001B[0m\u001B[0;34m(\u001B[0m\u001B[0mcheck_obj\u001B[0m\u001B[0;34m,\u001B[0m \u001B[0mcolumn_name\u001B[0m\u001B[0;34m)\u001B[0m\u001B[0;34m:\u001B[0m\u001B[0;34m\u001B[0m\u001B[0;34m\u001B[0m\u001B[0m\n\u001B[0;32m--> 196\u001B[0;31m             super(Column, copy(self).set_name(column_name)).validate(\n\u001B[0m\u001B[1;32m    197\u001B[0m                 \u001B[0mcheck_obj\u001B[0m\u001B[0;34m,\u001B[0m\u001B[0;34m\u001B[0m\u001B[0;34m\u001B[0m\u001B[0m\n\u001B[1;32m    198\u001B[0m                 \u001B[0mhead\u001B[0m\u001B[0;34m,\u001B[0m\u001B[0;34m\u001B[0m\u001B[0;34m\u001B[0m\u001B[0m\n",
      "\u001B[0;32m~/.pyenv/versions/env3.10.8/lib/python3.10/site-packages/pandera/schemas.py\u001B[0m in \u001B[0;36mvalidate\u001B[0;34m(self, check_obj, head, tail, sample, random_state, lazy, inplace)\u001B[0m\n\u001B[1;32m   1793\u001B[0m                     \u001B[0;34mf\"values:\\n{failed}\"\u001B[0m\u001B[0;34m\u001B[0m\u001B[0;34m\u001B[0m\u001B[0m\n\u001B[1;32m   1794\u001B[0m                 )\n\u001B[0;32m-> 1795\u001B[0;31m                 error_handler.collect_error(\n\u001B[0m\u001B[1;32m   1796\u001B[0m                     \u001B[0;34m\"series_contains_nulls\"\u001B[0m\u001B[0;34m,\u001B[0m\u001B[0;34m\u001B[0m\u001B[0;34m\u001B[0m\u001B[0m\n\u001B[1;32m   1797\u001B[0m                     errors.SchemaError(\n",
      "\u001B[0;32m~/.pyenv/versions/env3.10.8/lib/python3.10/site-packages/pandera/error_handlers.py\u001B[0m in \u001B[0;36mcollect_error\u001B[0;34m(self, reason_code, schema_error, original_exc)\u001B[0m\n\u001B[1;32m     30\u001B[0m         \"\"\"\n\u001B[1;32m     31\u001B[0m         \u001B[0;32mif\u001B[0m \u001B[0;32mnot\u001B[0m \u001B[0mself\u001B[0m\u001B[0;34m.\u001B[0m\u001B[0m_lazy\u001B[0m\u001B[0;34m:\u001B[0m\u001B[0;34m\u001B[0m\u001B[0;34m\u001B[0m\u001B[0m\n\u001B[0;32m---> 32\u001B[0;31m             \u001B[0;32mraise\u001B[0m \u001B[0mschema_error\u001B[0m \u001B[0;32mfrom\u001B[0m \u001B[0moriginal_exc\u001B[0m\u001B[0;34m\u001B[0m\u001B[0;34m\u001B[0m\u001B[0m\n\u001B[0m\u001B[1;32m     33\u001B[0m \u001B[0;34m\u001B[0m\u001B[0m\n\u001B[1;32m     34\u001B[0m         \u001B[0;31m# delete data of validated object from SchemaError object to prevent\u001B[0m\u001B[0;34m\u001B[0m\u001B[0;34m\u001B[0m\u001B[0m\n",
      "\u001B[0;31mSchemaError\u001B[0m: non-nullable series 'description' contains null values:\n2    None\n4    None\nName: description, dtype: object"
     ]
    }
   ],
   "source": [
    "# Using DataFrameSchema\n",
    "import pandas as pd\n",
    "import pandera as pa\n",
    "\n",
    "df = pd.DataFrame(\n",
    "       [\n",
    "\t   (1, \"Thingy A\", \"awesome thing.\", \"high\", 0),\n",
    "\t   (2, \"Thingy B\", \"available at http://thingb.com\", None, 0),\n",
    "\t   (3, None, None, \"low\", 5),\n",
    "\t   (4, \"Thingy D\", \"checkout https://thingd.ca\", \"low\", 10),\n",
    "\t   (5, \"Thingy E\", None, \"high\", 12),\n",
    "       ],\n",
    "       columns=[\"id\", \"productName\", \"description\", \"priority\", \"numViews\"]\n",
    ")\n",
    "\n",
    "schema = pa.DataFrameSchema({\n",
    "    \"id\": pa.Column(int, nullable=False, allow_duplicates=False),\n",
    "    \"description\": pa.Column(str, nullable=False),\n",
    "    \"priority\": pa.Column(str, checks=pa.Check.isin([\"high\", \"low\"]), nullable=True),\n",
    "    \"numViews\": pa.Column(int, checks=[pa.Check.greater_than_or_equal_to(0),pa.Check(lambda c: c.median() >= 0 and c.median() <= 10)]),\n",
    "    \"productName\": pa.Column(str, nullable=False),\n",
    "})\n",
    "\n",
    "validated_df = schema(df)\n",
    "print(validated_df)"
   ],
   "metadata": {
    "collapsed": false
   }
  },
  {
   "cell_type": "code",
   "execution_count": 104,
   "outputs": [
    {
     "data": {
      "text/plain": "   id            name department  salary  salary_increase\n0   1  Elsayed Rashed         IT    30.5              5.1\n1   2    Rania Rashed      Sales    27.3              2.3\n2   3    Rawan Rashed         IT    29.1              2.6\n3   4     Amal Rashed  Marketing    28.4              3.4\n4   5  Jumana Elsayed         HR    20.6              1.6",
      "text/html": "<div>\n<style scoped>\n    .dataframe tbody tr th:only-of-type {\n        vertical-align: middle;\n    }\n\n    .dataframe tbody tr th {\n        vertical-align: top;\n    }\n\n    .dataframe thead th {\n        text-align: right;\n    }\n</style>\n<table border=\"1\" class=\"dataframe\">\n  <thead>\n    <tr style=\"text-align: right;\">\n      <th></th>\n      <th>id</th>\n      <th>name</th>\n      <th>department</th>\n      <th>salary</th>\n      <th>salary_increase</th>\n    </tr>\n  </thead>\n  <tbody>\n    <tr>\n      <th>0</th>\n      <td>1</td>\n      <td>Elsayed Rashed</td>\n      <td>IT</td>\n      <td>30.5</td>\n      <td>5.1</td>\n    </tr>\n    <tr>\n      <th>1</th>\n      <td>2</td>\n      <td>Rania Rashed</td>\n      <td>Sales</td>\n      <td>27.3</td>\n      <td>2.3</td>\n    </tr>\n    <tr>\n      <th>2</th>\n      <td>3</td>\n      <td>Rawan Rashed</td>\n      <td>IT</td>\n      <td>29.1</td>\n      <td>2.6</td>\n    </tr>\n    <tr>\n      <th>3</th>\n      <td>4</td>\n      <td>Amal Rashed</td>\n      <td>Marketing</td>\n      <td>28.4</td>\n      <td>3.4</td>\n    </tr>\n    <tr>\n      <th>4</th>\n      <td>5</td>\n      <td>Jumana Elsayed</td>\n      <td>HR</td>\n      <td>20.6</td>\n      <td>1.6</td>\n    </tr>\n  </tbody>\n</table>\n</div>"
     },
     "execution_count": 104,
     "metadata": {},
     "output_type": "execute_result"
    }
   ],
   "source": [
    "# Using Schema Model\n",
    "from pandera.typing import Series\n",
    "import pandera as pa\n",
    "from typing import Dict\n",
    "\n",
    "df = pd.DataFrame({\n",
    "    \"id\": [1, 2, 3, 4, 5],\n",
    "    \"name\": [\"Elsayed Rashed\", \"Rania Rashed\", \"Rawan Rashed\", \"Amal Rashed\", \"Jumana Elsayed\"],\n",
    "    \"department\": [\"IT\", \"Sales\", \"IT\", \"Marketing\", \"HR\"],\n",
    "    \"salary\": [30.5, 27.3, 29.1, 28.4, 20.6],\n",
    "    \"salary_increase\": [5.1, 2.3, 2.6, 3.4, 1.6]\n",
    "})\n",
    "\n",
    "class EmployeeSchema(pa.SchemaModel):\n",
    "    id: Series[int] = pa.Field(gt=0, nullable=False, allow_duplicates=False)\n",
    "    name: Series[str] = pa.Field(nullable=False)\n",
    "    department: Series[str] = pa.Field(isin=[\"IT\", \"HR\", \"Sales\", \"Marketing\"], nullable=False)\n",
    "    salary: Series[float] = pa.Field(in_range={\"min_value\": 10, \"max_value\": 35}, nullable=False)\n",
    "    salary_increase: Series[float] = pa.Field(in_range={\"min_value\": 0, \"max_value\": 10}, nullable=False)\n",
    "\n",
    "    @pa.check(\"name\", name=\"name_check_fisrt_family\")\n",
    "    def name_custom_check_1(cls, a: Series[int]) -> Series[bool]:\n",
    "        \"\"\" Check that Name values have two elements after being split with ' ' \"\"\"\n",
    "        return a.str.split(\" \", expand=True).shape[1] == 2\n",
    "\n",
    "    @pa.check(\"salary\", name=\"salary_check_sum\")\n",
    "    def salary_custom_check_1(cls, salary: Series[float]) -> bool:\n",
    "        return sum(salary) < 150\n",
    "\n",
    "    @pa.check(\"salary\", groupby=\"department\", name=\"salary_check_group_means\")\n",
    "    def salary_custom_check_2(cls, grouped_value: Dict[str, Series[float]]) -> bool:\n",
    "        return grouped_value[\"HR\"].mean() < grouped_value[\"IT\"].mean()\n",
    "\n",
    "    @pa.dataframe_check (name=\"salary_increase_check\")\n",
    "    def salary_increase_custom_check_1(cls, df: pd.DataFrame) -> Series[bool]:\n",
    "        return df[\"salary\"] + df[\"salary_increase\"] < 50\n",
    "\n",
    "\n",
    "EmployeeSchema.validate(df)"
   ],
   "metadata": {
    "collapsed": false
   }
  },
  {
   "cell_type": "code",
   "execution_count": 88,
   "outputs": [
    {
     "data": {
      "text/plain": "     name    store  price  tax\n0   apple     Aldi    5.5  0.5\n1  banana  Walmart    4.2  0.3\n2   apple      NaN    5.1  0.4",
      "text/html": "<div>\n<style scoped>\n    .dataframe tbody tr th:only-of-type {\n        vertical-align: middle;\n    }\n\n    .dataframe tbody tr th {\n        vertical-align: top;\n    }\n\n    .dataframe thead th {\n        text-align: right;\n    }\n</style>\n<table border=\"1\" class=\"dataframe\">\n  <thead>\n    <tr style=\"text-align: right;\">\n      <th></th>\n      <th>name</th>\n      <th>store</th>\n      <th>price</th>\n      <th>tax</th>\n    </tr>\n  </thead>\n  <tbody>\n    <tr>\n      <th>0</th>\n      <td>apple</td>\n      <td>Aldi</td>\n      <td>5.5</td>\n      <td>0.5</td>\n    </tr>\n    <tr>\n      <th>1</th>\n      <td>banana</td>\n      <td>Walmart</td>\n      <td>4.2</td>\n      <td>0.3</td>\n    </tr>\n    <tr>\n      <th>2</th>\n      <td>apple</td>\n      <td>NaN</td>\n      <td>5.1</td>\n      <td>0.4</td>\n    </tr>\n  </tbody>\n</table>\n</div>"
     },
     "execution_count": 88,
     "metadata": {},
     "output_type": "execute_result"
    }
   ],
   "source": [
    "# DataFrame & Group level Checks\n",
    "import numpy as np\n",
    "import pandas as pd\n",
    "import pandera as pa\n",
    "\n",
    "fruits = pd.DataFrame({\n",
    "    \"name\": [\"apple\", \"banana\", \"apple\"],\n",
    "    \"store\": [\"Aldi\", \"Walmart\", np.nan],\n",
    "    \"price\": [5.5, 4.2, 5.1],\n",
    "    \"tax\": [0.5, 0.3, 0.4]})\n",
    "\n",
    "available_fruits = [\"apple\", \"banana\", \"orange\"]\n",
    "nearby_stores = [\"Aldi\", \"Walmart\"]\n",
    "\n",
    "schema = pa.DataFrameSchema({\n",
    "    \"name\": pa.Column(str, pa.Check.isin(available_fruits), allow_duplicates=True),\n",
    "    \"store\": pa.Column(str, pa.Check.isin(nearby_stores), nullable=True),\n",
    "    \"price\": pa.Column(float, [pa.Check.less_than(6),pa.Check(lambda price: sum(price) < 20)]),\n",
    "    \"tax\": pa.Column(float, [pa.Check(lambda g: g[\"Aldi\"].mean() > g[\"Walmart\"].mean(), groupby=\"store\")])\n",
    "},\n",
    "    checks=pa.Check(lambda df: df[\"price\"].mean() > df[\"tax\"].mean())\n",
    ")\n",
    "\n",
    "schema.validate(fruits)"
   ],
   "metadata": {
    "collapsed": false
   }
  },
  {
   "cell_type": "code",
   "execution_count": null,
   "outputs": [],
   "source": [],
   "metadata": {
    "collapsed": false
   }
  }
 ],
 "metadata": {
  "kernelspec": {
   "display_name": "Python 3",
   "language": "python",
   "name": "python3"
  },
  "language_info": {
   "codemirror_mode": {
    "name": "ipython",
    "version": 2
   },
   "file_extension": ".py",
   "mimetype": "text/x-python",
   "name": "python",
   "nbconvert_exporter": "python",
   "pygments_lexer": "ipython2",
   "version": "2.7.6"
  }
 },
 "nbformat": 4,
 "nbformat_minor": 0
}
